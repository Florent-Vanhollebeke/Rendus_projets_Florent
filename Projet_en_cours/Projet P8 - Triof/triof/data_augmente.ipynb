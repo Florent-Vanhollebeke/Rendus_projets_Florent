{
 "cells": [
  {
   "cell_type": "code",
   "execution_count": 1,
   "metadata": {},
   "outputs": [
    {
     "ename": "OSError",
     "evalue": "The source directory you specified does not exist.",
     "output_type": "error",
     "traceback": [
      "\u001b[1;31m---------------------------------------------------------------------------\u001b[0m",
      "\u001b[1;31mOSError\u001b[0m                                   Traceback (most recent call last)",
      "\u001b[1;32mc:\\Users\\flore\\OneDrive\\Documents\\Simplon\\Rendus_projets_Florent\\Projet_en_cours\\Projet P8 - Triof\\triof\\data_augmente.ipynb Cell 1'\u001b[0m in \u001b[0;36m<cell line: 4>\u001b[1;34m()\u001b[0m\n\u001b[0;32m      <a href='vscode-notebook-cell:/c%3A/Users/flore/OneDrive/Documents/Simplon/Rendus_projets_Florent/Projet_en_cours/Projet%20P8%20-%20Triof/triof/data_augmente.ipynb#ch0000000?line=1'>2</a>\u001b[0m \u001b[39mimport\u001b[39;00m \u001b[39mAugmentor\u001b[39;00m\n\u001b[0;32m      <a href='vscode-notebook-cell:/c%3A/Users/flore/OneDrive/Documents/Simplon/Rendus_projets_Florent/Projet_en_cours/Projet%20P8%20-%20Triof/triof/data_augmente.ipynb#ch0000000?line=2'>3</a>\u001b[0m \u001b[39m# Passing the path of the image directory\u001b[39;00m\n\u001b[1;32m----> <a href='vscode-notebook-cell:/c%3A/Users/flore/OneDrive/Documents/Simplon/Rendus_projets_Florent/Projet_en_cours/Projet%20P8%20-%20Triof/triof/data_augmente.ipynb#ch0000000?line=3'>4</a>\u001b[0m p \u001b[39m=\u001b[39m Augmentor\u001b[39m.\u001b[39;49mPipeline(\u001b[39m\"\u001b[39;49m\u001b[39m.\u001b[39;49m\u001b[39m\\\u001b[39;49m\u001b[39mimages\u001b[39;49m\u001b[39m\\t\u001b[39;49;00m\u001b[39mrain\u001b[39;49m\u001b[39m\\\u001b[39;49m\u001b[39mclean\u001b[39;49m\u001b[39m\"\u001b[39;49m, \u001b[39m\"\u001b[39;49m\u001b[39m..\u001b[39;49m\u001b[39m\\\u001b[39;49m\u001b[39m..\u001b[39;49m\u001b[39m\\\u001b[39;49m\u001b[39mimages_augmentees\u001b[39;49m\u001b[39m\\\u001b[39;49m\u001b[39mclean\u001b[39;49m\u001b[39m\"\u001b[39;49m)\n\u001b[0;32m      <a href='vscode-notebook-cell:/c%3A/Users/flore/OneDrive/Documents/Simplon/Rendus_projets_Florent/Projet_en_cours/Projet%20P8%20-%20Triof/triof/data_augmente.ipynb#ch0000000?line=5'>6</a>\u001b[0m \u001b[39m# Defining augmentation parameters and generating 5 samples\u001b[39;00m\n\u001b[0;32m      <a href='vscode-notebook-cell:/c%3A/Users/flore/OneDrive/Documents/Simplon/Rendus_projets_Florent/Projet_en_cours/Projet%20P8%20-%20Triof/triof/data_augmente.ipynb#ch0000000?line=6'>7</a>\u001b[0m p\u001b[39m.\u001b[39mset_seed(\u001b[39m0\u001b[39m)\n",
      "File \u001b[1;32m~\\anaconda3\\lib\\site-packages\\Augmentor\\Pipeline.py:87\u001b[0m, in \u001b[0;36mPipeline.__init__\u001b[1;34m(self, source_directory, output_directory, save_format)\u001b[0m\n\u001b[0;32m     <a href='file:///c%3A/Users/flore/anaconda3/lib/site-packages/Augmentor/Pipeline.py?line=83'>84</a>\u001b[0m \u001b[39mself\u001b[39m\u001b[39m.\u001b[39mprocess_ground_truth_images \u001b[39m=\u001b[39m \u001b[39mFalse\u001b[39;00m\n\u001b[0;32m     <a href='file:///c%3A/Users/flore/anaconda3/lib/site-packages/Augmentor/Pipeline.py?line=85'>86</a>\u001b[0m \u001b[39mif\u001b[39;00m source_directory \u001b[39mis\u001b[39;00m \u001b[39mnot\u001b[39;00m \u001b[39mNone\u001b[39;00m:\n\u001b[1;32m---> <a href='file:///c%3A/Users/flore/anaconda3/lib/site-packages/Augmentor/Pipeline.py?line=86'>87</a>\u001b[0m     \u001b[39mself\u001b[39;49m\u001b[39m.\u001b[39;49m_populate(source_directory\u001b[39m=\u001b[39;49msource_directory,\n\u001b[0;32m     <a href='file:///c%3A/Users/flore/anaconda3/lib/site-packages/Augmentor/Pipeline.py?line=87'>88</a>\u001b[0m                    output_directory\u001b[39m=\u001b[39;49moutput_directory,\n\u001b[0;32m     <a href='file:///c%3A/Users/flore/anaconda3/lib/site-packages/Augmentor/Pipeline.py?line=88'>89</a>\u001b[0m                    ground_truth_directory\u001b[39m=\u001b[39;49m\u001b[39mNone\u001b[39;49;00m,\n\u001b[0;32m     <a href='file:///c%3A/Users/flore/anaconda3/lib/site-packages/Augmentor/Pipeline.py?line=89'>90</a>\u001b[0m                    ground_truth_output_directory\u001b[39m=\u001b[39;49moutput_directory)\n",
      "File \u001b[1;32m~\\anaconda3\\lib\\site-packages\\Augmentor\\Pipeline.py:135\u001b[0m, in \u001b[0;36mPipeline._populate\u001b[1;34m(self, source_directory, output_directory, ground_truth_directory, ground_truth_output_directory)\u001b[0m\n\u001b[0;32m    <a href='file:///c%3A/Users/flore/anaconda3/lib/site-packages/Augmentor/Pipeline.py?line=132'>133</a>\u001b[0m \u001b[39m# Check if the source directory for the original images to augment exists at all\u001b[39;00m\n\u001b[0;32m    <a href='file:///c%3A/Users/flore/anaconda3/lib/site-packages/Augmentor/Pipeline.py?line=133'>134</a>\u001b[0m \u001b[39mif\u001b[39;00m \u001b[39mnot\u001b[39;00m os\u001b[39m.\u001b[39mpath\u001b[39m.\u001b[39mexists(source_directory):\n\u001b[1;32m--> <a href='file:///c%3A/Users/flore/anaconda3/lib/site-packages/Augmentor/Pipeline.py?line=134'>135</a>\u001b[0m     \u001b[39mraise\u001b[39;00m \u001b[39mIOError\u001b[39;00m(\u001b[39m\"\u001b[39m\u001b[39mThe source directory you specified does not exist.\u001b[39m\u001b[39m\"\u001b[39m)\n\u001b[0;32m    <a href='file:///c%3A/Users/flore/anaconda3/lib/site-packages/Augmentor/Pipeline.py?line=136'>137</a>\u001b[0m \u001b[39m# If a ground truth directory is being specified we will check here if the path exists at all.\u001b[39;00m\n\u001b[0;32m    <a href='file:///c%3A/Users/flore/anaconda3/lib/site-packages/Augmentor/Pipeline.py?line=137'>138</a>\u001b[0m \u001b[39mif\u001b[39;00m ground_truth_directory:\n",
      "\u001b[1;31mOSError\u001b[0m: The source directory you specified does not exist."
     ]
    }
   ],
   "source": [
    "# Importing necessary library\n",
    "import Augmentor\n",
    "# Passing the path of the image directory\n",
    "p = Augmentor.Pipeline(\".\\images\\train\\clean\", \"..\\..\\images_augmentees\\clean\")\n",
    "  \n",
    "# Defining augmentation parameters and generating 5 samples\n",
    "p.set_seed(0)\n",
    "p.flip_left_right(0.5)\n",
    "p.black_and_white(0.1)\n",
    "p.rotate(0.3, 10, 10)\n",
    "p.skew(0.4, 0.5)\n",
    "p.zoom(probability = 0.2, min_factor = 1.1, max_factor = 1.5)\n",
    "p.resize(probability=1, width=64, height=64)\n",
    "p.sample(1000)\n",
    "#p.add_further_directory(\".\\images\\dirty_training_set\\dirty_plastic_cutlery\", \"..\\..\\images_augmentees\\dirty_train_augmente\\dirty_plastic_cutlery\")\n",
    "#p.sample(1000)"
   ]
  },
  {
   "cell_type": "code",
   "execution_count": null,
   "metadata": {},
   "outputs": [],
   "source": []
  },
  {
   "cell_type": "code",
   "execution_count": null,
   "metadata": {},
   "outputs": [],
   "source": []
  }
 ],
 "metadata": {
  "interpreter": {
   "hash": "958a84fcfaf858ac6a20cbd0bbd102d452ed048ed96fe3f42a77e513953b0119"
  },
  "kernelspec": {
   "display_name": "Python 3.9.12 ('base')",
   "language": "python",
   "name": "python3"
  },
  "language_info": {
   "codemirror_mode": {
    "name": "ipython",
    "version": 3
   },
   "file_extension": ".py",
   "mimetype": "text/x-python",
   "name": "python",
   "nbconvert_exporter": "python",
   "pygments_lexer": "ipython3",
   "version": "3.9.12"
  },
  "orig_nbformat": 4
 },
 "nbformat": 4,
 "nbformat_minor": 2
}
